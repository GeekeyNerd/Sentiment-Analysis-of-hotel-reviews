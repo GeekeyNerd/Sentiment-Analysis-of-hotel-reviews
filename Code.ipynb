{
 "cells": [
  {
   "cell_type": "markdown",
   "metadata": {},
   "source": [
    "# Importing Libraries"
   ]
  },
  {
   "cell_type": "code",
   "execution_count": 2,
   "metadata": {},
   "outputs": [],
   "source": [
    "import numpy as np\n",
    "import pandas as pd\n",
    "import matplotlib.pyplot as plt\n",
    "import re\n",
    "import nltk\n",
    "import string\n",
    "from nltk.corpus import stopwords\n",
    "from nltk.tokenize import sent_tokenize, word_tokenize\n",
    "import time\n",
    "import nltk.classify.util\n",
    "from nltk.classify import NaiveBayesClassifier\n"
   ]
  },
  {
   "cell_type": "markdown",
   "metadata": {},
   "source": [
    "# Importing Dataset"
   ]
  },
  {
   "cell_type": "code",
   "execution_count": 3,
   "metadata": {},
   "outputs": [],
   "source": [
    "df=pd.read_csv('Hotel_Reviews.csv')"
   ]
  },
  {
   "cell_type": "markdown",
   "metadata": {},
   "source": [
    "# Data Exploration and some pre-processing"
   ]
  },
  {
   "cell_type": "code",
   "execution_count": 4,
   "metadata": {},
   "outputs": [
    {
     "data": {
      "text/plain": [
       "(515738, 17)"
      ]
     },
     "metadata": {},
     "output_type": "display_data"
    }
   ],
   "source": [
    "display(df.shape)"
   ]
  },
  {
   "cell_type": "code",
   "execution_count": 6,
   "metadata": {},
   "outputs": [
    {
     "data": {
      "text/html": [
       "<div>\n",
       "<style scoped>\n",
       "    .dataframe tbody tr th:only-of-type {\n",
       "        vertical-align: middle;\n",
       "    }\n",
       "\n",
       "    .dataframe tbody tr th {\n",
       "        vertical-align: top;\n",
       "    }\n",
       "\n",
       "    .dataframe thead th {\n",
       "        text-align: right;\n",
       "    }\n",
       "</style>\n",
       "<table border=\"1\" class=\"dataframe\">\n",
       "  <thead>\n",
       "    <tr style=\"text-align: right;\">\n",
       "      <th></th>\n",
       "      <th>Additional_Number_of_Scoring</th>\n",
       "      <th>Average_Score</th>\n",
       "      <th>Review_Total_Negative_Word_Counts</th>\n",
       "      <th>Total_Number_of_Reviews</th>\n",
       "      <th>Review_Total_Positive_Word_Counts</th>\n",
       "      <th>Total_Number_of_Reviews_Reviewer_Has_Given</th>\n",
       "      <th>Reviewer_Score</th>\n",
       "      <th>lat</th>\n",
       "      <th>lng</th>\n",
       "    </tr>\n",
       "  </thead>\n",
       "  <tbody>\n",
       "    <tr>\n",
       "      <th>count</th>\n",
       "      <td>515738.000000</td>\n",
       "      <td>515738.000000</td>\n",
       "      <td>515738.000000</td>\n",
       "      <td>515738.000000</td>\n",
       "      <td>515738.000000</td>\n",
       "      <td>515738.000000</td>\n",
       "      <td>515738.000000</td>\n",
       "      <td>512470.000000</td>\n",
       "      <td>512470.000000</td>\n",
       "    </tr>\n",
       "    <tr>\n",
       "      <th>mean</th>\n",
       "      <td>498.081836</td>\n",
       "      <td>8.397487</td>\n",
       "      <td>18.539450</td>\n",
       "      <td>2743.743944</td>\n",
       "      <td>17.776458</td>\n",
       "      <td>7.166001</td>\n",
       "      <td>8.395077</td>\n",
       "      <td>49.442439</td>\n",
       "      <td>2.823803</td>\n",
       "    </tr>\n",
       "    <tr>\n",
       "      <th>std</th>\n",
       "      <td>500.538467</td>\n",
       "      <td>0.548048</td>\n",
       "      <td>29.690831</td>\n",
       "      <td>2317.464868</td>\n",
       "      <td>21.804185</td>\n",
       "      <td>11.040228</td>\n",
       "      <td>1.637856</td>\n",
       "      <td>3.466325</td>\n",
       "      <td>4.579425</td>\n",
       "    </tr>\n",
       "    <tr>\n",
       "      <th>min</th>\n",
       "      <td>1.000000</td>\n",
       "      <td>5.200000</td>\n",
       "      <td>0.000000</td>\n",
       "      <td>43.000000</td>\n",
       "      <td>0.000000</td>\n",
       "      <td>1.000000</td>\n",
       "      <td>2.500000</td>\n",
       "      <td>41.328376</td>\n",
       "      <td>-0.369758</td>\n",
       "    </tr>\n",
       "    <tr>\n",
       "      <th>25%</th>\n",
       "      <td>169.000000</td>\n",
       "      <td>8.100000</td>\n",
       "      <td>2.000000</td>\n",
       "      <td>1161.000000</td>\n",
       "      <td>5.000000</td>\n",
       "      <td>1.000000</td>\n",
       "      <td>7.500000</td>\n",
       "      <td>48.214662</td>\n",
       "      <td>-0.143372</td>\n",
       "    </tr>\n",
       "    <tr>\n",
       "      <th>50%</th>\n",
       "      <td>341.000000</td>\n",
       "      <td>8.400000</td>\n",
       "      <td>9.000000</td>\n",
       "      <td>2134.000000</td>\n",
       "      <td>11.000000</td>\n",
       "      <td>3.000000</td>\n",
       "      <td>8.800000</td>\n",
       "      <td>51.499981</td>\n",
       "      <td>0.010607</td>\n",
       "    </tr>\n",
       "    <tr>\n",
       "      <th>75%</th>\n",
       "      <td>660.000000</td>\n",
       "      <td>8.800000</td>\n",
       "      <td>23.000000</td>\n",
       "      <td>3613.000000</td>\n",
       "      <td>22.000000</td>\n",
       "      <td>8.000000</td>\n",
       "      <td>9.600000</td>\n",
       "      <td>51.516288</td>\n",
       "      <td>4.834443</td>\n",
       "    </tr>\n",
       "    <tr>\n",
       "      <th>max</th>\n",
       "      <td>2682.000000</td>\n",
       "      <td>9.800000</td>\n",
       "      <td>408.000000</td>\n",
       "      <td>16670.000000</td>\n",
       "      <td>395.000000</td>\n",
       "      <td>355.000000</td>\n",
       "      <td>10.000000</td>\n",
       "      <td>52.400181</td>\n",
       "      <td>16.429233</td>\n",
       "    </tr>\n",
       "  </tbody>\n",
       "</table>\n",
       "</div>"
      ],
      "text/plain": [
       "       Additional_Number_of_Scoring  Average_Score  \\\n",
       "count                 515738.000000  515738.000000   \n",
       "mean                     498.081836       8.397487   \n",
       "std                      500.538467       0.548048   \n",
       "min                        1.000000       5.200000   \n",
       "25%                      169.000000       8.100000   \n",
       "50%                      341.000000       8.400000   \n",
       "75%                      660.000000       8.800000   \n",
       "max                     2682.000000       9.800000   \n",
       "\n",
       "       Review_Total_Negative_Word_Counts  Total_Number_of_Reviews  \\\n",
       "count                      515738.000000            515738.000000   \n",
       "mean                           18.539450              2743.743944   \n",
       "std                            29.690831              2317.464868   \n",
       "min                             0.000000                43.000000   \n",
       "25%                             2.000000              1161.000000   \n",
       "50%                             9.000000              2134.000000   \n",
       "75%                            23.000000              3613.000000   \n",
       "max                           408.000000             16670.000000   \n",
       "\n",
       "       Review_Total_Positive_Word_Counts  \\\n",
       "count                      515738.000000   \n",
       "mean                           17.776458   \n",
       "std                            21.804185   \n",
       "min                             0.000000   \n",
       "25%                             5.000000   \n",
       "50%                            11.000000   \n",
       "75%                            22.000000   \n",
       "max                           395.000000   \n",
       "\n",
       "       Total_Number_of_Reviews_Reviewer_Has_Given  Reviewer_Score  \\\n",
       "count                               515738.000000   515738.000000   \n",
       "mean                                     7.166001        8.395077   \n",
       "std                                     11.040228        1.637856   \n",
       "min                                      1.000000        2.500000   \n",
       "25%                                      1.000000        7.500000   \n",
       "50%                                      3.000000        8.800000   \n",
       "75%                                      8.000000        9.600000   \n",
       "max                                    355.000000       10.000000   \n",
       "\n",
       "                 lat            lng  \n",
       "count  512470.000000  512470.000000  \n",
       "mean       49.442439       2.823803  \n",
       "std         3.466325       4.579425  \n",
       "min        41.328376      -0.369758  \n",
       "25%        48.214662      -0.143372  \n",
       "50%        51.499981       0.010607  \n",
       "75%        51.516288       4.834443  \n",
       "max        52.400181      16.429233  "
      ]
     },
     "metadata": {},
     "output_type": "display_data"
    }
   ],
   "source": [
    "display(df.describe())"
   ]
  },
  {
   "cell_type": "code",
   "execution_count": 7,
   "metadata": {},
   "outputs": [
    {
     "data": {
      "text/html": [
       "<div>\n",
       "<style scoped>\n",
       "    .dataframe tbody tr th:only-of-type {\n",
       "        vertical-align: middle;\n",
       "    }\n",
       "\n",
       "    .dataframe tbody tr th {\n",
       "        vertical-align: top;\n",
       "    }\n",
       "\n",
       "    .dataframe thead th {\n",
       "        text-align: right;\n",
       "    }\n",
       "</style>\n",
       "<table border=\"1\" class=\"dataframe\">\n",
       "  <thead>\n",
       "    <tr style=\"text-align: right;\">\n",
       "      <th></th>\n",
       "      <th>Hotel_Address</th>\n",
       "      <th>Review_Date</th>\n",
       "      <th>Hotel_Name</th>\n",
       "      <th>Reviewer_Nationality</th>\n",
       "      <th>Negative_Review</th>\n",
       "      <th>Positive_Review</th>\n",
       "      <th>Tags</th>\n",
       "      <th>days_since_review</th>\n",
       "    </tr>\n",
       "  </thead>\n",
       "  <tbody>\n",
       "    <tr>\n",
       "      <th>count</th>\n",
       "      <td>515738</td>\n",
       "      <td>515738</td>\n",
       "      <td>515738</td>\n",
       "      <td>515738</td>\n",
       "      <td>515738</td>\n",
       "      <td>515738</td>\n",
       "      <td>515738</td>\n",
       "      <td>515738</td>\n",
       "    </tr>\n",
       "    <tr>\n",
       "      <th>unique</th>\n",
       "      <td>1493</td>\n",
       "      <td>731</td>\n",
       "      <td>1492</td>\n",
       "      <td>227</td>\n",
       "      <td>330011</td>\n",
       "      <td>412601</td>\n",
       "      <td>55242</td>\n",
       "      <td>731</td>\n",
       "    </tr>\n",
       "    <tr>\n",
       "      <th>top</th>\n",
       "      <td>163 Marsh Wall Docklands Tower Hamlets London ...</td>\n",
       "      <td>8/2/2017</td>\n",
       "      <td>Britannia International Hotel Canary Wharf</td>\n",
       "      <td>United Kingdom</td>\n",
       "      <td>No Negative</td>\n",
       "      <td>No Positive</td>\n",
       "      <td>[' Leisure trip ', ' Couple ', ' Double Room '...</td>\n",
       "      <td>1 days</td>\n",
       "    </tr>\n",
       "    <tr>\n",
       "      <th>freq</th>\n",
       "      <td>4789</td>\n",
       "      <td>2585</td>\n",
       "      <td>4789</td>\n",
       "      <td>245246</td>\n",
       "      <td>127890</td>\n",
       "      <td>35946</td>\n",
       "      <td>5101</td>\n",
       "      <td>2585</td>\n",
       "    </tr>\n",
       "  </tbody>\n",
       "</table>\n",
       "</div>"
      ],
      "text/plain": [
       "                                            Hotel_Address Review_Date  \\\n",
       "count                                              515738      515738   \n",
       "unique                                               1493         731   \n",
       "top     163 Marsh Wall Docklands Tower Hamlets London ...    8/2/2017   \n",
       "freq                                                 4789        2585   \n",
       "\n",
       "                                        Hotel_Name Reviewer_Nationality  \\\n",
       "count                                       515738               515738   \n",
       "unique                                        1492                  227   \n",
       "top     Britannia International Hotel Canary Wharf      United Kingdom    \n",
       "freq                                          4789               245246   \n",
       "\n",
       "       Negative_Review Positive_Review  \\\n",
       "count           515738          515738   \n",
       "unique          330011          412601   \n",
       "top        No Negative     No Positive   \n",
       "freq            127890           35946   \n",
       "\n",
       "                                                     Tags days_since_review  \n",
       "count                                              515738            515738  \n",
       "unique                                              55242               731  \n",
       "top     [' Leisure trip ', ' Couple ', ' Double Room '...            1 days  \n",
       "freq                                                 5101              2585  "
      ]
     },
     "metadata": {},
     "output_type": "display_data"
    }
   ],
   "source": [
    "display(df.describe(include=['O']))"
   ]
  },
  {
   "cell_type": "code",
   "execution_count": 8,
   "metadata": {},
   "outputs": [
    {
     "data": {
      "text/plain": [
       "Index(['Hotel_Address', 'Additional_Number_of_Scoring', 'Review_Date',\n",
       "       'Average_Score', 'Hotel_Name', 'Reviewer_Nationality',\n",
       "       'Negative_Review', 'Review_Total_Negative_Word_Counts',\n",
       "       'Total_Number_of_Reviews', 'Positive_Review',\n",
       "       'Review_Total_Positive_Word_Counts',\n",
       "       'Total_Number_of_Reviews_Reviewer_Has_Given', 'Reviewer_Score', 'Tags',\n",
       "       'days_since_review', 'lat', 'lng'],\n",
       "      dtype='object')"
      ]
     },
     "execution_count": 8,
     "metadata": {},
     "output_type": "execute_result"
    }
   ],
   "source": [
    "df.keys()"
   ]
  },
  {
   "cell_type": "code",
   "execution_count": 9,
   "metadata": {},
   "outputs": [
    {
     "name": "stdout",
     "output_type": "stream",
     "text": [
      "(1494, 8)\n"
     ]
    },
    {
     "data": {
      "text/html": [
       "<div>\n",
       "<style scoped>\n",
       "    .dataframe tbody tr th:only-of-type {\n",
       "        vertical-align: middle;\n",
       "    }\n",
       "\n",
       "    .dataframe tbody tr th {\n",
       "        vertical-align: top;\n",
       "    }\n",
       "\n",
       "    .dataframe thead th {\n",
       "        text-align: right;\n",
       "    }\n",
       "</style>\n",
       "<table border=\"1\" class=\"dataframe\">\n",
       "  <thead>\n",
       "    <tr style=\"text-align: right;\">\n",
       "      <th></th>\n",
       "      <th>index</th>\n",
       "      <th>Hotel_Name</th>\n",
       "      <th>Average_Score</th>\n",
       "      <th>Total_Number_of_Reviews</th>\n",
       "      <th>Hotel_Address</th>\n",
       "      <th>Additional_Number_of_Scoring</th>\n",
       "      <th>lat</th>\n",
       "      <th>lng</th>\n",
       "    </tr>\n",
       "  </thead>\n",
       "  <tbody>\n",
       "    <tr>\n",
       "      <th>0</th>\n",
       "      <td>0</td>\n",
       "      <td>Hotel Arena</td>\n",
       "      <td>7.7</td>\n",
       "      <td>1403</td>\n",
       "      <td>s Gravesandestraat 55 Oost 1092 AA Amsterdam ...</td>\n",
       "      <td>194</td>\n",
       "      <td>52.360576</td>\n",
       "      <td>4.915968</td>\n",
       "    </tr>\n",
       "    <tr>\n",
       "      <th>1</th>\n",
       "      <td>405</td>\n",
       "      <td>K K Hotel George</td>\n",
       "      <td>8.5</td>\n",
       "      <td>1831</td>\n",
       "      <td>1 15 Templeton Place Earl s Court Kensington a...</td>\n",
       "      <td>244</td>\n",
       "      <td>51.491888</td>\n",
       "      <td>-0.194971</td>\n",
       "    </tr>\n",
       "    <tr>\n",
       "      <th>2</th>\n",
       "      <td>971</td>\n",
       "      <td>Apex Temple Court Hotel</td>\n",
       "      <td>9.2</td>\n",
       "      <td>2619</td>\n",
       "      <td>1 2 Serjeant s Inn Fleet Street City of London...</td>\n",
       "      <td>639</td>\n",
       "      <td>51.513734</td>\n",
       "      <td>-0.108751</td>\n",
       "    </tr>\n",
       "  </tbody>\n",
       "</table>\n",
       "</div>"
      ],
      "text/plain": [
       "   index               Hotel_Name  Average_Score  Total_Number_of_Reviews  \\\n",
       "0      0              Hotel Arena            7.7                     1403   \n",
       "1    405         K K Hotel George            8.5                     1831   \n",
       "2    971  Apex Temple Court Hotel            9.2                     2619   \n",
       "\n",
       "                                       Hotel_Address  \\\n",
       "0   s Gravesandestraat 55 Oost 1092 AA Amsterdam ...   \n",
       "1  1 15 Templeton Place Earl s Court Kensington a...   \n",
       "2  1 2 Serjeant s Inn Fleet Street City of London...   \n",
       "\n",
       "   Additional_Number_of_Scoring        lat       lng  \n",
       "0                           194  52.360576  4.915968  \n",
       "1                           244  51.491888 -0.194971  \n",
       "2                           639  51.513734 -0.108751  "
      ]
     },
     "execution_count": 9,
     "metadata": {},
     "output_type": "execute_result"
    }
   ],
   "source": [
    "# create a database with only hotels info \n",
    "hotels=df[['Hotel_Name','Average_Score','Total_Number_of_Reviews',\\\n",
    "           'Hotel_Address', 'Additional_Number_of_Scoring','lat', 'lng']].drop_duplicates().reset_index()\n",
    "print(hotels.shape)\n",
    "hotels.head(3)"
   ]
  },
  {
   "cell_type": "markdown",
   "metadata": {},
   "source": [
    "playing aroung with the data to get confortable with it and get some new columns and lists that could be useful for better understanding of the dataset."
   ]
  },
  {
   "cell_type": "code",
   "execution_count": 10,
   "metadata": {},
   "outputs": [
    {
     "data": {
      "text/plain": [
       "array(['Netherlands', 'UK', 'France', 'Spain', 'Italy', 'Austria'],\n",
       "      dtype=object)"
      ]
     },
     "execution_count": 10,
     "metadata": {},
     "output_type": "execute_result"
    }
   ],
   "source": [
    "# Hotel address ---> Country ('Netherlands', 'UK', 'France', 'Spain', 'Italy', 'Austria')\n",
    "hotels['Country']=hotels['Hotel_Address'].apply(lambda x: x.split()[-1]).replace('Kingdom','UK')\n",
    "hotels.Country.unique()"
   ]
  },
  {
   "cell_type": "code",
   "execution_count": 11,
   "metadata": {},
   "outputs": [],
   "source": [
    "# To see which country gives more reviews (UK most of the time)\n",
    "# So lets get the most common nationality of reviews for each hotel\n",
    "most_national=df[['Hotel_Name','Hotel_Address','Reviewer_Nationality']].groupby(['Hotel_Name','Hotel_Address']).agg(lambda x:x.value_counts().index[0])"
   ]
  },
  {
   "cell_type": "code",
   "execution_count": 12,
   "metadata": {},
   "outputs": [],
   "source": [
    "# In case we want to use the Tags, here I clean up the format \n",
    "# and create list from Tags ranked them by occurence\n",
    "tags_rank=pd.Series(re.findall(r'[\\']\\s([\\w\\s]+)\\s[\\']',''.join(df.Tags))).value_counts()"
   ]
  },
  {
   "cell_type": "code",
   "execution_count": 13,
   "metadata": {},
   "outputs": [],
   "source": [
    "# Correct day of the review into integer\n",
    "df['days_since_review']=pd.to_numeric(df['days_since_review'].str.replace(r'[a-z]+', \"\"))"
   ]
  },
  {
   "cell_type": "code",
   "execution_count": 14,
   "metadata": {},
   "outputs": [],
   "source": [
    "# DataFrames with Negative reviews and positive reviews given\n",
    "neg_rev=df[df.Negative_Review!='No Negative'].reset_index().drop('index',1)\n",
    "pos_rev=df[df.Positive_Review!='No Positive'].reset_index().drop('index',1)\n",
    "neg_rev = neg_rev[neg_rev['Reviewer_Score']<5].reset_index().drop('index',1)\n",
    "pos_rev = pos_rev[pos_rev['Reviewer_Score']>8].reset_index().drop('index',1)\n"
   ]
  },
  {
   "cell_type": "markdown",
   "metadata": {},
   "source": [
    "## Word Tokenization"
   ]
  },
  {
   "cell_type": "code",
   "execution_count": 15,
   "metadata": {},
   "outputs": [],
   "source": [
    "# Takes review and gives back the clean list of words\n",
    "\n",
    "#TokTok faster than word_tokenize\n",
    "from nltk.tokenize import ToktokTokenizer\n",
    "toktok = ToktokTokenizer()\n",
    "\n",
    "# Stopwords, numbers and punctuation to remove\n",
    "remove_punct_and_digits = dict([(ord(punct), ' ') for punct in string.punctuation + string.digits])\n",
    "stopWords = set(stopwords.words('english'))\n",
    "\n",
    "\n",
    "def word_cleaner(data):\n",
    "    cleaned_word = data.lower().translate(remove_punct_and_digits)\n",
    "    words = word_tokenize(cleaned_word)\n",
    "    words = [toktok.tokenize(sent) for sent in sent_tokenize(cleaned_word)]\n",
    "    wordsFiltered = []\n",
    "    if not words:\n",
    "        pass\n",
    "    else:\n",
    "        for w in words[0]:\n",
    "            if w not in stopWords:\n",
    "                wordsFiltered.append(w)\n",
    "                end=time.time()\n",
    "    return wordsFiltered\n"
   ]
  },
  {
   "cell_type": "code",
   "execution_count": 22,
   "metadata": {},
   "outputs": [
    {
     "name": "stdout",
     "output_type": "stream",
     "text": [
      " My room was dirty and I was afraid to walk barefoot on the floor which looked as if it was not cleaned in weeks White furniture which looked nice in pictures was dirty too and the door looked like it was attacked by an angry dog My shower drain was clogged and the staff did not respond to my request to clean it On a day with heavy rainfall a pretty common occurrence in Amsterdam the roof in my room was leaking luckily not on the bed you could also see signs of earlier water damage I also saw insects running on the floor Overall the second floor of the property looked dirty and badly kept On top of all of this a repairman who came to fix something in a room next door at midnight was very noisy as were many of the guests I understand the challenges of running a hotel in an old building but this negligence is inconsistent with prices demanded by the hotel On the last night after I complained about water damage the night shift manager offered to move me to a different room but that offer came pretty late around midnight when I was already in bed and ready to sleep \n",
      "-------------------------------------------------------------------------------------------------------------------------------\n",
      "['room', 'dirty', 'afraid', 'walk', 'barefoot', 'floor', 'looked', 'cleaned', 'weeks', 'white', 'furniture', 'looked', 'nice', 'pictures', 'dirty', 'door', 'looked', 'like', 'attacked', 'angry', 'dog', 'shower', 'drain', 'clogged', 'staff', 'respond', 'request', 'clean', 'day', 'heavy', 'rainfall', 'pretty', 'common', 'occurrence', 'amsterdam', 'roof', 'room', 'leaking', 'luckily', 'bed', 'could', 'also', 'see', 'signs', 'earlier', 'water', 'damage', 'also', 'saw', 'insects', 'running', 'floor', 'overall', 'second', 'floor', 'property', 'looked', 'dirty', 'badly', 'kept', 'top', 'repairman', 'came', 'fix', 'something', 'room', 'next', 'door', 'midnight', 'noisy', 'many', 'guests', 'understand', 'challenges', 'running', 'hotel', 'old', 'building', 'negligence', 'inconsistent', 'prices', 'demanded', 'hotel', 'last', 'night', 'complained', 'water', 'damage', 'night', 'shift', 'manager', 'offered', 'move', 'different', 'room', 'offer', 'came', 'pretty', 'late', 'around', 'midnight', 'already', 'bed', 'ready', 'sleep']\n"
     ]
    }
   ],
   "source": [
    "# Example\n",
    "wordsFiltered = word_cleaner(neg_rev.Negative_Review[1])\n",
    "print(neg_rev.Negative_Review[1])\n",
    "print(\"-\"*127)\n",
    "print(wordsFiltered)"
   ]
  },
  {
   "cell_type": "code",
   "execution_count": 23,
   "metadata": {},
   "outputs": [],
   "source": [
    "# We take a small sample within our database to speed up Learning\n",
    "# with a decent machine and some time to spare we can easily skip this step\n",
    "neg_red=neg_rev[:50000].copy()\n",
    "pos_red=pos_rev[:50000].copy()"
   ]
  },
  {
   "cell_type": "markdown",
   "metadata": {},
   "source": [
    "# Data preparation and Model Building"
   ]
  },
  {
   "cell_type": "code",
   "execution_count": 24,
   "metadata": {},
   "outputs": [],
   "source": [
    "# Create set related to positive and negative review\n",
    "def word_feats(words):\n",
    "    return dict([(word, True) for word in words])\n",
    "neg_set=[(word_feats(word_feats(word_cleaner(neg_red.loc[i,'Negative_Review']))), 0) for i in range(len(neg_red))]\n",
    "pos_set=[(word_feats(word_feats(word_cleaner(pos_red.loc[i,'Positive_Review']))), 1) for i in range(len(pos_red))]"
   ]
  },
  {
   "cell_type": "code",
   "execution_count": 25,
   "metadata": {},
   "outputs": [
    {
     "name": "stdout",
     "output_type": "stream",
     "text": [
      "53724 17908\n"
     ]
    }
   ],
   "source": [
    "# Spliting the data into train and test set\n",
    "\n",
    "negcutoff = int(len(neg_set)*3/4)\n",
    "poscutoff = int(len(pos_set)*3/4)\n",
    " \n",
    "trainfeats = neg_set[:negcutoff] + pos_set[:poscutoff]\n",
    "testfeats = neg_set[negcutoff:] + pos_set[poscutoff:]\n",
    "print(len(trainfeats), len(testfeats))"
   ]
  },
  {
   "cell_type": "markdown",
   "metadata": {},
   "source": [
    "### Building the Naive Bayes Classifire and checking its accuracy"
   ]
  },
  {
   "cell_type": "code",
   "execution_count": 26,
   "metadata": {},
   "outputs": [
    {
     "name": "stdout",
     "output_type": "stream",
     "text": [
      "accuracy: 0.8930645521554612\n"
     ]
    }
   ],
   "source": [
    "classifier = NaiveBayesClassifier.train(trainfeats)\n",
    "print( 'accuracy:', nltk.classify.util.accuracy(classifier, testfeats))"
   ]
  },
  {
   "cell_type": "markdown",
   "metadata": {},
   "source": [
    "# Scoring words based on it's sentiment"
   ]
  },
  {
   "cell_type": "code",
   "execution_count": 27,
   "metadata": {},
   "outputs": [],
   "source": [
    "# Now we want to have a clear overview of the most hated/loved words so...\n",
    "# Builds the dataframe of words with respective sentiment and score\n",
    "\n",
    "cpdist = classifier._feature_probdist\n",
    "word=[]\n",
    "score=[]\n",
    "sentiment=[]\n",
    "for (fname, fval) in classifier.most_informative_features(100):\n",
    "            def labelprob(l):\n",
    "                return cpdist[l, fname].prob(fval)\n",
    "\n",
    "            labels = sorted([l for l in classifier._labels\n",
    "                             if fval in cpdist[l, fname].samples()],\n",
    "                            key=labelprob)\n",
    "            if len(labels) == 1:\n",
    "                continue\n",
    "            l0 = labels[0]\n",
    "            l1 = labels[-1]\n",
    "            if cpdist[l0, fname].prob(fval) == 0:\n",
    "                ratio = 'INF'\n",
    "            else:\n",
    "                ratio = '%8.1f' % (cpdist[l1, fname].prob(fval) /\n",
    "                                   cpdist[l0, fname].prob(fval))\n",
    "            sentiment.append(int(l1))\n",
    "            word.append(fname)\n",
    "            score.append(float(ratio))"
   ]
  },
  {
   "cell_type": "code",
   "execution_count": 28,
   "metadata": {},
   "outputs": [
    {
     "data": {
      "text/html": [
       "<div>\n",
       "<style scoped>\n",
       "    .dataframe tbody tr th:only-of-type {\n",
       "        vertical-align: middle;\n",
       "    }\n",
       "\n",
       "    .dataframe tbody tr th {\n",
       "        vertical-align: top;\n",
       "    }\n",
       "\n",
       "    .dataframe thead th {\n",
       "        text-align: right;\n",
       "    }\n",
       "</style>\n",
       "<table border=\"1\" class=\"dataframe\">\n",
       "  <thead>\n",
       "    <tr style=\"text-align: right;\">\n",
       "      <th></th>\n",
       "      <th>word</th>\n",
       "      <th>sentiment</th>\n",
       "      <th>score</th>\n",
       "    </tr>\n",
       "  </thead>\n",
       "  <tbody>\n",
       "    <tr>\n",
       "      <th>7</th>\n",
       "      <td>superb</td>\n",
       "      <td>1</td>\n",
       "      <td>198.0</td>\n",
       "    </tr>\n",
       "    <tr>\n",
       "      <th>20</th>\n",
       "      <td>delicious</td>\n",
       "      <td>1</td>\n",
       "      <td>127.1</td>\n",
       "    </tr>\n",
       "    <tr>\n",
       "      <th>47</th>\n",
       "      <td>excellent</td>\n",
       "      <td>1</td>\n",
       "      <td>77.8</td>\n",
       "    </tr>\n",
       "    <tr>\n",
       "      <th>54</th>\n",
       "      <td>fab</td>\n",
       "      <td>1</td>\n",
       "      <td>72.0</td>\n",
       "    </tr>\n",
       "    <tr>\n",
       "      <th>56</th>\n",
       "      <td>beautifully</td>\n",
       "      <td>1</td>\n",
       "      <td>70.8</td>\n",
       "    </tr>\n",
       "  </tbody>\n",
       "</table>\n",
       "</div>"
      ],
      "text/plain": [
       "           word  sentiment  score\n",
       "7        superb          1  198.0\n",
       "20    delicious          1  127.1\n",
       "47    excellent          1   77.8\n",
       "54          fab          1   72.0\n",
       "56  beautifully          1   70.8"
      ]
     },
     "metadata": {},
     "output_type": "display_data"
    },
    {
     "data": {
      "text/html": [
       "<div>\n",
       "<style scoped>\n",
       "    .dataframe tbody tr th:only-of-type {\n",
       "        vertical-align: middle;\n",
       "    }\n",
       "\n",
       "    .dataframe tbody tr th {\n",
       "        vertical-align: top;\n",
       "    }\n",
       "\n",
       "    .dataframe thead th {\n",
       "        text-align: right;\n",
       "    }\n",
       "</style>\n",
       "<table border=\"1\" class=\"dataframe\">\n",
       "  <thead>\n",
       "    <tr style=\"text-align: right;\">\n",
       "      <th></th>\n",
       "      <th>word</th>\n",
       "      <th>sentiment</th>\n",
       "      <th>score</th>\n",
       "    </tr>\n",
       "  </thead>\n",
       "  <tbody>\n",
       "    <tr>\n",
       "      <th>0</th>\n",
       "      <td>worst</td>\n",
       "      <td>0</td>\n",
       "      <td>929.9</td>\n",
       "    </tr>\n",
       "    <tr>\n",
       "      <th>1</th>\n",
       "      <td>rude</td>\n",
       "      <td>0</td>\n",
       "      <td>691.1</td>\n",
       "    </tr>\n",
       "    <tr>\n",
       "      <th>2</th>\n",
       "      <td>dirty</td>\n",
       "      <td>0</td>\n",
       "      <td>648.6</td>\n",
       "    </tr>\n",
       "    <tr>\n",
       "      <th>3</th>\n",
       "      <td>disgusting</td>\n",
       "      <td>0</td>\n",
       "      <td>361.3</td>\n",
       "    </tr>\n",
       "    <tr>\n",
       "      <th>4</th>\n",
       "      <td>terrible</td>\n",
       "      <td>0</td>\n",
       "      <td>302.3</td>\n",
       "    </tr>\n",
       "  </tbody>\n",
       "</table>\n",
       "</div>"
      ],
      "text/plain": [
       "         word  sentiment  score\n",
       "0       worst          0  929.9\n",
       "1        rude          0  691.1\n",
       "2       dirty          0  648.6\n",
       "3  disgusting          0  361.3\n",
       "4    terrible          0  302.3"
      ]
     },
     "metadata": {},
     "output_type": "display_data"
    }
   ],
   "source": [
    "# Divides scores into negative and positive\n",
    "word_scores=pd.DataFrame({'word':word,'sentiment':sentiment,'score':score})\n",
    "neg_word_scores=word_scores[word_scores.sentiment==0]\n",
    "pos_word_scores=word_scores[word_scores.sentiment==1]\n",
    "display(word_scores[word_scores['sentiment']==1].head())\n",
    "display(word_scores[word_scores['sentiment']==0].head())\n",
    "neg_given=df[df.Negative_Review!='No Negative'].reset_index().drop('index',1)\n",
    "pos_given=df[df.Positive_Review!='No Positive'].reset_index().drop('index',1)"
   ]
  },
  {
   "cell_type": "code",
   "execution_count": 29,
   "metadata": {},
   "outputs": [],
   "source": [
    "# I want to create two new columns, one that will give a positive and one a negative score\n",
    "# Sums positive and negative scores for a given review\n",
    "def pos_sentiment_sum(review):\n",
    "    pos=0\n",
    "    asd=word_cleaner(review)\n",
    "    set_w=set(pos_word_scores.word)-set(['no','negative','positive'])\n",
    "    \n",
    "    for word in asd:\n",
    "        if word in set_w:\n",
    "            pos+=pos_word_scores[pos_word_scores['word']==word].score.iloc[0]\n",
    "    \n",
    "    return pos\n",
    "\n",
    "def neg_sentiment_sum(review):\n",
    "    neg=0\n",
    "    asd=word_cleaner(review)\n",
    "    set_w=set(neg_word_scores.word)-set(['no','negative','positive'])\n",
    "    \n",
    "    for word in asd:\n",
    "        if word in set_w:\n",
    "            neg+=neg_word_scores[neg_word_scores['word']==word].score.iloc[0]\n",
    "    "
   ]
  },
  {
   "cell_type": "code",
   "execution_count": 30,
   "metadata": {},
   "outputs": [
    {
     "name": "stdout",
     "output_type": "stream",
     "text": [
      "negative score: None positive score: 77.8\n"
     ]
    }
   ],
   "source": [
    "# TEST\n",
    "print('negative score:',neg_sentiment_sum(df.Negative_Review[6584]),\\\n",
    "       'positive score:', pos_sentiment_sum(df.Positive_Review[6584]))"
   ]
  },
  {
   "cell_type": "code",
   "execution_count": 31,
   "metadata": {},
   "outputs": [],
   "source": [
    "# I comment it out so it does not need to run when I submit\n",
    "\n",
    "# This is the final step where we get the additional columns \n",
    "# Produce the pos and neg colums in database\n",
    "\n",
    "#=================\n",
    "pos_col=[]\n",
    "for i in range(len(df)):\n",
    "    if df.Positive_Review[i]=='No Positive':\n",
    "        pos_col.append(int(0))\n",
    "    else:\n",
    "        pos_col.append(pos_sentiment_sum(df.Positive_Review[i]))\n",
    "df['pos_score']=pos_col\n",
    "\n",
    "neg_col=[]\n",
    "for i in range(len(df)):\n",
    "    if df.Negative_Review[i]=='No Negative':\n",
    "        neg_col.append(int(0))\n",
    "    else:\n",
    "        neg_col.append(neg_sentiment_sum(df.Negative_Review[i]))\n",
    "df['neg_score']=neg_col\n",
    "#================="
   ]
  },
  {
   "cell_type": "code",
   "execution_count": 32,
   "metadata": {},
   "outputs": [
    {
     "name": "stdout",
     "output_type": "stream",
     "text": [
      "(86851, 19)\n",
      "(92830, 19)\n",
      "(88104, 19)\n",
      "(246390, 19)\n"
     ]
    }
   ],
   "source": [
    "# Reviews grouped by rate band\n",
    "score_9=df[df.Reviewer_Score>9].copy()\n",
    "score_4=df[df.Reviewer_Score<4].copy()\n",
    "score_6=df[df.Reviewer_Score<7].copy()\n",
    "score_7=df[(df.Reviewer_Score>7)&(df.Reviewer_Score<8)].copy()\n",
    "score_8=df[(df.Reviewer_Score>8)&(df.Reviewer_Score<9)].copy()\n",
    "print(score_6.shape)\n",
    "print(score_7.shape)\n",
    "print(score_8.shape)\n",
    "print(score_9.shape)"
   ]
  },
  {
   "cell_type": "markdown",
   "metadata": {},
   "source": [
    "# Some Data Visualization"
   ]
  },
  {
   "cell_type": "code",
   "execution_count": 33,
   "metadata": {},
   "outputs": [
    {
     "data": {
      "image/png": "[encoded data removed]",
      "text/plain": [
       "<Figure size 504x504 with 1 Axes>"
      ]
     },
     "metadata": {},
     "output_type": "display_data"
    }
   ],
   "source": [
    "# Some plots\n",
    "\n",
    "from matplotlib import rcParams\n",
    "rcParams.update({'figure.autolayout': True})\n",
    "plt.style.use('fivethirtyeight')\n",
    "\n",
    "plt.figure(figsize=(7,7))\n",
    "plt.hist(df['Reviewer_Score'],bins=20)\n",
    "plt.ylabel('Number_Reviewers',fontsize=16)\n",
    "plt.xlabel('Rating',fontsize=16)\n",
    "plt.title('Ratings accross Users',fontsize=16)\n",
    "plt.axvline(df['Reviewer_Score'].mean(), color='k', linestyle='dashed', linewidth=1)\n",
    "plt.savefig('Ratings_user.png')"
   ]
  },
  {
   "cell_type": "code",
   "execution_count": 34,
   "metadata": {},
   "outputs": [
    {
     "data": {
      "image/png": "[encoded data removed]",
      "text/plain": [
       "<Figure size 504x504 with 1 Axes>"
      ]
     },
     "metadata": {},
     "output_type": "display_data"
    }
   ],
   "source": [
    "plt.figure(figsize=(7,7))\n",
    "plt.hist(df['Average_Score'],bins=20)\n",
    "plt.ylabel('Number Hotels',fontsize=16)\n",
    "plt.xlabel('Rating',fontsize=16)\n",
    "plt.title('Ratings accross Hotels',fontsize=16)\n",
    "plt.axvline(df['Average_Score'].mean(), color='k', linestyle='dashed', linewidth=1)\n",
    "plt.savefig('Ratings_hotel.png')\n"
   ]
  },
  {
   "cell_type": "code",
   "execution_count": 35,
   "metadata": {},
   "outputs": [
    {
     "data": {
      "image/png": "[encoded data removed]",
      "text/plain": [
       "<Figure size 504x288 with 1 Axes>"
      ]
     },
     "metadata": {},
     "output_type": "display_data"
    }
   ],
   "source": [
    "plt.figure(figsize=(7,4))\n",
    "week_bins=int(np.floor((max(df['days_since_review'])-min(df['days_since_review']))/7))\n",
    "vals = plt.hist(df['days_since_review'],bins=week_bins);\n",
    "plt.ylabel('Number ratings',fontsize=16)\n",
    "plt.xlabel('Days passed',fontsize=16)\n",
    "plt.title('Ratings per week',fontsize=16)\n",
    "plt.axhline(vals[0].mean(), color='k', linestyle='dashed', linewidth=1)\n",
    "plt.savefig('Ratings_week.png')"
   ]
  },
  {
   "cell_type": "code",
   "execution_count": 36,
   "metadata": {},
   "outputs": [
    {
     "data": {
      "image/png": "[encoded data removed]",
      "text/plain": [
       "<Figure size 504x288 with 1 Axes>"
      ]
     },
     "metadata": {},
     "output_type": "display_data"
    }
   ],
   "source": [
    "plt.figure(figsize=(7,4))\n",
    "plt.plot(vals[0]);\n",
    "plt.ylabel('Number ratings',fontsize=16)\n",
    "plt.xlabel('Weeks passed',fontsize=16)\n",
    "plt.title('Ratings per week',fontsize=16)\n",
    "plt.axhline(vals[0].mean(), color='k', linestyle='dashed', linewidth=1)\n",
    "plt.savefig('Ratings_week_plot.png')"
   ]
  },
  {
   "cell_type": "code",
   "execution_count": null,
   "metadata": {},
   "outputs": [],
   "source": []
  }
 ],
 "metadata": {
  "kernelspec": {
   "display_name": "Python 3",
   "language": "python",
   "name": "python3"
  },
  "language_info": {
   "codemirror_mode": {
    "name": "ipython",
    "version": 3
   },
   "file_extension": ".py",
   "mimetype": "text/x-python",
   "name": "python",
   "nbconvert_exporter": "python",
   "pygments_lexer": "ipython3",
   "version": "3.7.3"
  }
 },
 "nbformat": 4,
 "nbformat_minor": 2
}
